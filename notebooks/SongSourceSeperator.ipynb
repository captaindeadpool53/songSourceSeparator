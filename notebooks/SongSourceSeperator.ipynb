{
  "cells": [
    {
      "cell_type": "markdown",
      "metadata": {
        "id": "view-in-github",
        "colab_type": "text"
      },
      "source": [
        "<a href=\"https://colab.research.google.com/github/captaindeadpool53/songSourceSeperator/blob/main/notebooks/SongSourceSeperator.ipynb\" target=\"_parent\"><img src=\"https://colab.research.google.com/assets/colab-badge.svg\" alt=\"Open In Colab\"/></a>"
      ]
    },
    {
      "cell_type": "code",
      "execution_count": 1,
      "metadata": {
        "colab": {
          "base_uri": "https://localhost:8080/"
        },
        "id": "O9rg4r1VBNOM",
        "outputId": "47197b71-ae4d-458a-e143-74b02a096231"
      },
      "outputs": [
        {
          "output_type": "stream",
          "name": "stdout",
          "text": [
            "Drive already mounted at /content/drive; to attempt to forcibly remount, call drive.mount(\"/content/drive\", force_remount=True).\n"
          ]
        }
      ],
      "source": [
        "# prompt: I want to use training data from my google drive and then save a dictionary on dricve\n",
        "\n",
        "from google.colab import drive\n",
        "drive.mount('/content/drive')"
      ]
    },
    {
      "cell_type": "code",
      "execution_count": 2,
      "metadata": {
        "colab": {
          "base_uri": "https://localhost:8080/"
        },
        "id": "K5gVV4Uzm04v",
        "outputId": "8402f8d6-f372-4429-a0aa-4295dab9475e"
      },
      "outputs": [
        {
          "output_type": "stream",
          "name": "stdout",
          "text": [
            "fatal: destination path 'songSourceSeperator' already exists and is not an empty directory.\n",
            "/content/songSourceSeperator\n",
            "config\tdata  main.py  notebooks  __pycache__  README.md  requirements.txt  results  src\n"
          ]
        }
      ],
      "source": [
        "# prompt: clone https://github.com/captaindeadpool53/songSourceSeperator.git\n",
        "\n",
        "!git clone -l -s -b main https://github.com/captaindeadpool53/songSourceSeperator.git\n",
        "%cd songSourceSeperator\n",
        "!ls"
      ]
    },
    {
      "cell_type": "code",
      "execution_count": 2,
      "metadata": {
        "colab": {
          "base_uri": "https://localhost:8080/"
        },
        "id": "HTejKmr1ROru",
        "outputId": "59124267-1976-48a8-d77e-c54a3cbbce59"
      },
      "outputs": [
        {
          "output_type": "stream",
          "name": "stdout",
          "text": [
            "/content/songSourceSeperator\n"
          ]
        }
      ],
      "source": [
        "%cd songSourceSeperator\n"
      ]
    },
    {
      "cell_type": "code",
      "execution_count": 3,
      "metadata": {
        "colab": {
          "base_uri": "https://localhost:8080/"
        },
        "id": "q1FSYksqfQPl",
        "outputId": "54dcb514-28db-46df-89a0-7d02618ab3b1"
      },
      "outputs": [
        {
          "output_type": "stream",
          "name": "stdout",
          "text": [
            "remote: Enumerating objects: 6, done.\u001b[K\n",
            "remote: Counting objects:  16% (1/6)\u001b[K\rremote: Counting objects:  33% (2/6)\u001b[K\rremote: Counting objects:  50% (3/6)\u001b[K\rremote: Counting objects:  66% (4/6)\u001b[K\rremote: Counting objects:  83% (5/6)\u001b[K\rremote: Counting objects: 100% (6/6)\u001b[K\rremote: Counting objects: 100% (6/6), done.\u001b[K\n",
            "remote: Total 6 (delta 4), reused 6 (delta 4), pack-reused 0\u001b[K\n",
            "Unpacking objects:  16% (1/6)\rUnpacking objects:  33% (2/6)\rUnpacking objects:  50% (3/6)\rUnpacking objects:  66% (4/6)\rUnpacking objects:  83% (5/6)\rUnpacking objects: 100% (6/6)\rUnpacking objects: 100% (6/6), 537 bytes | 268.00 KiB/s, done.\n",
            "From https://github.com/captaindeadpool53/songSourceSeperator\n",
            "   acc1d1a..8e82218  main       -> origin/main\n",
            "Updating acc1d1a..8e82218\n",
            "Fast-forward\n",
            " src/evaluation/evaluationHandler.py | 8 \u001b[32m++++\u001b[m\u001b[31m----\u001b[m\n",
            " src/pipeline.py                     | 4 \u001b[32m++\u001b[m\u001b[31m--\u001b[m\n",
            " 2 files changed, 6 insertions(+), 6 deletions(-)\n"
          ]
        }
      ],
      "source": [
        "!git pull"
      ]
    },
    {
      "cell_type": "code",
      "execution_count": 4,
      "metadata": {
        "colab": {
          "base_uri": "https://localhost:8080/"
        },
        "id": "0iuZNB0_MV43",
        "outputId": "857de548-8618-44fb-d565-cd58136ffdca"
      },
      "outputs": [
        {
          "output_type": "stream",
          "name": "stdout",
          "text": [
            "::: Loading in progress for file name - spectrogramData.npy :::\n",
            "::: Load complete for file name - spectrogramData.npy :::\n",
            "::: Loading saved model weights :::\n",
            "::: Sucessfuly loaded saved model weights :::\n",
            "::: Beginning training :::\n",
            "    243/Unknown - 56s 115ms/step - loss: 25.7605\n",
            "Epoch 1: val_loss improved from inf to 25.59534, saving model to /content/drive/MyDrive/Colab Notebooks/saved_models/modelCheckpoint.h5\n",
            "243/243 [==============================] - 67s 161ms/step - loss: 25.7605 - val_loss: 25.5953 - lr: 0.0020\n",
            "::: Finished Training :::\n",
            "::: Preprocessing prediction data :::\n",
            "::: Loading saved model weights :::\n",
            "::: Sucessfuly loaded saved model weights :::\n",
            "::: Loading successful :::\n",
            "::: Compiling and Predicting result :::\n",
            "19/19 [==============================] - 2s 32ms/step\n"
          ]
        }
      ],
      "source": [
        "import main\n",
        "%run main.py '/content/drive/MyDrive/Colab Notebooks/babySlakh/babyslakh_16k' '/content/drive/MyDrive/Colab Notebooks/song_to_seperate/seperateMyTracks.wav' '/content/drive/MyDrive/Colab Notebooks/saved_models/modelCheckpoint.h5' '/content/drive/MyDrive/Colab Notebooks/dictionaries' '/content/drive/MyDrive/Colab Notebooks/results' 2e-3 0.1 1e-6 1"
      ]
    }
  ],
  "metadata": {
    "accelerator": "GPU",
    "colab": {
      "gpuType": "V100",
      "provenance": [],
      "authorship_tag": "ABX9TyMtGqm27Q9t1MYmMsHglEPI",
      "include_colab_link": true
    },
    "kernelspec": {
      "display_name": "Python 3",
      "name": "python3"
    },
    "language_info": {
      "name": "python"
    }
  },
  "nbformat": 4,
  "nbformat_minor": 0
}