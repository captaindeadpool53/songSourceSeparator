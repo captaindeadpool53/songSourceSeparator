{
  "cells": [
    {
      "cell_type": "markdown",
      "metadata": {
        "id": "view-in-github",
        "colab_type": "text"
      },
      "source": [
        "<a href=\"https://colab.research.google.com/github/captaindeadpool53/songSourceSeperator/blob/main/notebooks/SongSourceSeperator.ipynb\" target=\"_parent\"><img src=\"https://colab.research.google.com/assets/colab-badge.svg\" alt=\"Open In Colab\"/></a>"
      ]
    },
    {
      "cell_type": "code",
      "execution_count": 2,
      "metadata": {
        "colab": {
          "base_uri": "https://localhost:8080/"
        },
        "id": "O9rg4r1VBNOM",
        "outputId": "30ae6d0f-4098-4fb4-edc6-9129c14c0828"
      },
      "outputs": [
        {
          "output_type": "stream",
          "name": "stdout",
          "text": [
            "Drive already mounted at /content/drive; to attempt to forcibly remount, call drive.mount(\"/content/drive\", force_remount=True).\n"
          ]
        }
      ],
      "source": [
        "from google.colab import drive\n",
        "drive.mount('/content/drive')"
      ]
    },
    {
      "cell_type": "code",
      "execution_count": 2,
      "metadata": {
        "colab": {
          "base_uri": "https://localhost:8080/"
        },
        "id": "K5gVV4Uzm04v",
        "outputId": "b45b642e-4b24-4219-8682-56170d74d256"
      },
      "outputs": [
        {
          "output_type": "stream",
          "name": "stdout",
          "text": [
            "Cloning into 'songSourceSeperator'...\n",
            "warning: --local is ignored\n",
            "remote: Enumerating objects: 731, done.\u001b[K\n",
            "remote: Counting objects: 100% (405/405), done.\u001b[K\n",
            "remote: Compressing objects: 100% (230/230), done.\u001b[K\n",
            "remote: Total 731 (delta 211), reused 279 (delta 154), pack-reused 326\u001b[K\n",
            "Receiving objects: 100% (731/731), 53.82 MiB | 27.94 MiB/s, done.\n",
            "Resolving deltas: 100% (385/385), done.\n"
          ]
        }
      ],
      "source": [
        "!git clone -l -s -b main https://github.com/captaindeadpool53/songSourceSeperator.git"
      ]
    },
    {
      "cell_type": "code",
      "execution_count": 1,
      "metadata": {
        "colab": {
          "base_uri": "https://localhost:8080/"
        },
        "id": "HTejKmr1ROru",
        "outputId": "20c2bf7d-d4e8-4260-d579-3b4ed19841d0"
      },
      "outputs": [
        {
          "output_type": "stream",
          "name": "stdout",
          "text": [
            "/content/songSourceSeperator\n",
            "Already up to date.\n"
          ]
        }
      ],
      "source": [
        "%cd songSourceSeperator\n",
        "!git pull"
      ]
    },
    {
      "cell_type": "code",
      "execution_count": null,
      "metadata": {
        "colab": {
          "base_uri": "https://localhost:8080/"
        },
        "id": "0iuZNB0_MV43",
        "outputId": "025b0f54-f2ce-4904-d741-4861b623fb37"
      },
      "outputs": [
        {
          "output_type": "stream",
          "name": "stdout",
          "text": [
            "::: Saving in progress for file name - audioData.npy :::\n",
            "::: Save complete for file name - audioData.npy :::\n",
            "::: Saving in progress for file name - spectrogramData.npy :::\n",
            "::: Save complete for file name - spectrogramData.npy :::\n",
            "::: Loading saved model weights :::\n",
            "::: Sucessfuly loaded saved model weights :::\n",
            "::: Beginning training :::\n",
            "Epoch 1/10\n"
          ]
        }
      ],
      "source": [
        "import main\n",
        "%run main.py '/content/drive/MyDrive/Colab Notebooks/songSourceSeperator' 2e-3 0.1 1e-6 10 8"
      ]
    }
  ],
  "metadata": {
    "accelerator": "GPU",
    "colab": {
      "gpuType": "T4",
      "provenance": [],
      "authorship_tag": "ABX9TyNa1VlEFYGrPRI6zNHiPWoT",
      "include_colab_link": true
    },
    "kernelspec": {
      "display_name": "Python 3",
      "name": "python3"
    },
    "language_info": {
      "name": "python"
    }
  },
  "nbformat": 4,
  "nbformat_minor": 0
}